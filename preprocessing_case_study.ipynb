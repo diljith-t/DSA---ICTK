{
  "nbformat": 4,
  "nbformat_minor": 0,
  "metadata": {
    "colab": {
      "provenance": []
    },
    "kernelspec": {
      "name": "python3",
      "display_name": "Python 3"
    },
    "language_info": {
      "name": "python"
    }
  },
  "cells": [
    {
      "cell_type": "code",
      "execution_count": 22,
      "metadata": {
        "colab": {
          "base_uri": "https://localhost:8080/"
        },
        "id": "HuIjOLv434-F",
        "outputId": "deb77ba8-307e-4401-f0e8-1c423577ca9e"
      },
      "outputs": [
        {
          "output_type": "stream",
          "name": "stdout",
          "text": [
            "<class 'pandas.core.frame.DataFrame'>\n",
            "RangeIndex: 21613 entries, 0 to 21612\n",
            "Data columns (total 21 columns):\n",
            " #   Column                                     Non-Null Count  Dtype  \n",
            "---  ------                                     --------------  -----  \n",
            " 0   ID                                         21613 non-null  int64  \n",
            " 1   Date House was Sold                        21613 non-null  object \n",
            " 2   Sale Price                                 21609 non-null  float64\n",
            " 3   No of Bedrooms                             21613 non-null  int64  \n",
            " 4   No of Bathrooms                            21609 non-null  float64\n",
            " 5   Flat Area (in Sqft)                        21604 non-null  float64\n",
            " 6   Lot Area (in Sqft)                         21604 non-null  float64\n",
            " 7   No of Floors                               21613 non-null  float64\n",
            " 8   Waterfront View                            21613 non-null  object \n",
            " 9   No of Times Visited                        2124 non-null   object \n",
            " 10  Condition of the House                     21613 non-null  object \n",
            " 11  Overall Grade                              21613 non-null  int64  \n",
            " 12  Area of the House from Basement (in Sqft)  21610 non-null  float64\n",
            " 13  Basement Area (in Sqft)                    21613 non-null  int64  \n",
            " 14  Age of House (in Years)                    21613 non-null  int64  \n",
            " 15  Renovated Year                             21613 non-null  int64  \n",
            " 16  Zipcode                                    21612 non-null  float64\n",
            " 17  Latitude                                   21612 non-null  float64\n",
            " 18  Longitude                                  21612 non-null  float64\n",
            " 19  Living Area after Renovation (in Sqft)     21612 non-null  float64\n",
            " 20  Lot Area after Renovation (in Sqft)        21613 non-null  int64  \n",
            "dtypes: float64(10), int64(7), object(4)\n",
            "memory usage: 3.5+ MB\n",
            "None\n",
            "                 ID    Sale Price  No of Bedrooms  No of Bathrooms  \\\n",
            "count  2.161300e+04  2.160900e+04    21613.000000     21609.000000   \n",
            "mean   4.580302e+09  5.401984e+05        3.370842         2.114732   \n",
            "std    2.876566e+09  3.673890e+05        0.930062         0.770138   \n",
            "min    1.000102e+06  7.500000e+04        0.000000         0.000000   \n",
            "25%    2.123049e+09  3.219500e+05        3.000000         1.750000   \n",
            "50%    3.904930e+09  4.500000e+05        3.000000         2.250000   \n",
            "75%    7.308900e+09  6.450000e+05        4.000000         2.500000   \n",
            "max    9.900000e+09  7.700000e+06       33.000000         8.000000   \n",
            "\n",
            "       Flat Area (in Sqft)  Lot Area (in Sqft)  No of Floors  Overall Grade  \\\n",
            "count         21604.000000        2.160400e+04  21613.000000   21613.000000   \n",
            "mean           2079.931772        1.510776e+04      1.494309       7.623467   \n",
            "std             918.487597        4.142827e+04      0.539989       1.105439   \n",
            "min             290.000000        5.200000e+02      1.000000       1.000000   \n",
            "25%            1429.250000        5.040000e+03      1.000000       7.000000   \n",
            "50%            1910.000000        7.617500e+03      1.500000       7.000000   \n",
            "75%            2550.000000        1.068825e+04      2.000000       8.000000   \n",
            "max           13540.000000        1.651359e+06      3.500000      10.000000   \n",
            "\n",
            "       Area of the House from Basement (in Sqft)  Basement Area (in Sqft)  \\\n",
            "count                               21610.000000             21613.000000   \n",
            "mean                                 1788.344193               291.509045   \n",
            "std                                   827.982604               442.575043   \n",
            "min                                   290.000000                 0.000000   \n",
            "25%                                  1190.000000                 0.000000   \n",
            "50%                                  1560.000000                 0.000000   \n",
            "75%                                  2210.000000               560.000000   \n",
            "max                                  9410.000000              4820.000000   \n",
            "\n",
            "       Age of House (in Years)  Renovated Year       Zipcode      Latitude  \\\n",
            "count             21613.000000    21613.000000  21612.000000  21612.000000   \n",
            "mean                 46.994864       84.402258  98077.937766     47.560048   \n",
            "std                  29.373411      401.679240     53.505425      0.138565   \n",
            "min                   3.000000        0.000000  98001.000000     47.155900   \n",
            "25%                  21.000000        0.000000  98033.000000     47.470975   \n",
            "50%                  43.000000        0.000000  98065.000000     47.571800   \n",
            "75%                  67.000000        0.000000  98118.000000     47.678000   \n",
            "max                 118.000000     2015.000000  98199.000000     47.777600   \n",
            "\n",
            "          Longitude  Living Area after Renovation (in Sqft)  \\\n",
            "count  21612.000000                            21612.000000   \n",
            "mean    -122.213892                             1986.538914   \n",
            "std        0.140830                              685.404255   \n",
            "min     -122.519000                              399.000000   \n",
            "25%     -122.328000                             1490.000000   \n",
            "50%     -122.230000                             1840.000000   \n",
            "75%     -122.125000                             2360.000000   \n",
            "max     -121.315000                             6210.000000   \n",
            "\n",
            "       Lot Area after Renovation (in Sqft)  \n",
            "count                         21613.000000  \n",
            "mean                          12768.455652  \n",
            "std                           27304.179631  \n",
            "min                             651.000000  \n",
            "25%                            5100.000000  \n",
            "50%                            7620.000000  \n",
            "75%                           10083.000000  \n",
            "max                          871200.000000  \n"
          ]
        }
      ],
      "source": [
        "import pandas as pd\n",
        "import numpy as np\n",
        "from sklearn.model_selection import train_test_split\n",
        "from sklearn.preprocessing import StandardScaler\n",
        "df = pd.read_csv(\"/content/drive/MyDrive/Colab Notebooks/DSA/House_Pricing.csv\")\n",
        "\n",
        "print(df.info())\n",
        "print(df.describe())\n"
      ]
    },
    {
      "cell_type": "code",
      "source": [
        "\n",
        "print(df.isnull().sum())\n"
      ],
      "metadata": {
        "colab": {
          "base_uri": "https://localhost:8080/"
        },
        "id": "CJDE-IlbgJ6g",
        "outputId": "497e68f0-f6ac-46f6-b1a7-4b53c6917061"
      },
      "execution_count": 23,
      "outputs": [
        {
          "output_type": "stream",
          "name": "stdout",
          "text": [
            "ID                                               0\n",
            "Date House was Sold                              0\n",
            "Sale Price                                       4\n",
            "No of Bedrooms                                   0\n",
            "No of Bathrooms                                  4\n",
            "Flat Area (in Sqft)                              9\n",
            "Lot Area (in Sqft)                               9\n",
            "No of Floors                                     0\n",
            "Waterfront View                                  0\n",
            "No of Times Visited                          19489\n",
            "Condition of the House                           0\n",
            "Overall Grade                                    0\n",
            "Area of the House from Basement (in Sqft)        3\n",
            "Basement Area (in Sqft)                          0\n",
            "Age of House (in Years)                          0\n",
            "Renovated Year                                   0\n",
            "Zipcode                                          1\n",
            "Latitude                                         1\n",
            "Longitude                                        1\n",
            "Living Area after Renovation (in Sqft)           1\n",
            "Lot Area after Renovation (in Sqft)              0\n",
            "dtype: int64\n"
          ]
        }
      ]
    },
    {
      "cell_type": "code",
      "source": [
        "print(df.columns.tolist())\n"
      ],
      "metadata": {
        "colab": {
          "base_uri": "https://localhost:8080/"
        },
        "outputId": "178e2539-0589-41c3-d454-dc5ef521e175",
        "id": "QwqV6Sr08eUR"
      },
      "execution_count": 24,
      "outputs": [
        {
          "output_type": "stream",
          "name": "stdout",
          "text": [
            "['ID', 'Date House was Sold', 'Sale Price', 'No of Bedrooms', 'No of Bathrooms', 'Flat Area (in Sqft)', 'Lot Area (in Sqft)', 'No of Floors', 'Waterfront View', 'No of Times Visited', 'Condition of the House', 'Overall Grade', 'Area of the House from Basement (in Sqft)', 'Basement Area (in Sqft)', 'Age of House (in Years)', 'Renovated Year', 'Zipcode', 'Latitude', 'Longitude', 'Living Area after Renovation (in Sqft)', 'Lot Area after Renovation (in Sqft)']\n"
          ]
        }
      ]
    },
    {
      "cell_type": "markdown",
      "source": [
        "Duplicate Removal"
      ],
      "metadata": {
        "id": "j1PFL0x2gmYB"
      }
    },
    {
      "cell_type": "code",
      "source": [
        "df = df.drop_duplicates()\n",
        "print(\"After removing duplicate rows:\", df.shape)\n"
      ],
      "metadata": {
        "colab": {
          "base_uri": "https://localhost:8080/"
        },
        "id": "CCHyhE1tgu7O",
        "outputId": "021f11ab-fb63-4890-f89e-331cecc4d9cf"
      },
      "execution_count": 25,
      "outputs": [
        {
          "output_type": "stream",
          "name": "stdout",
          "text": [
            "After removing duplicate rows: (21613, 21)\n"
          ]
        }
      ]
    },
    {
      "cell_type": "markdown",
      "source": [
        "Handling Missing Values"
      ],
      "metadata": {
        "id": "fxLK85Ytg3Xq"
      }
    },
    {
      "cell_type": "code",
      "source": [
        "\n",
        "for col in df.select_dtypes(include=['int64','float64']):\n",
        "    df[col] = df[col].fillna(df[col].median())\n",
        "for col in df.select_dtypes(include=['object']):\n",
        "    df[col] = df[col].fillna(df[col].mode()[0])\n",
        "\n",
        "print(df.isnull().sum())\n"
      ],
      "metadata": {
        "colab": {
          "base_uri": "https://localhost:8080/"
        },
        "id": "gsjHLFqfg4LE",
        "outputId": "566bb99e-e9bf-473f-dca2-976122c7cc17"
      },
      "execution_count": 26,
      "outputs": [
        {
          "output_type": "stream",
          "name": "stdout",
          "text": [
            "ID                                           0\n",
            "Date House was Sold                          0\n",
            "Sale Price                                   0\n",
            "No of Bedrooms                               0\n",
            "No of Bathrooms                              0\n",
            "Flat Area (in Sqft)                          0\n",
            "Lot Area (in Sqft)                           0\n",
            "No of Floors                                 0\n",
            "Waterfront View                              0\n",
            "No of Times Visited                          0\n",
            "Condition of the House                       0\n",
            "Overall Grade                                0\n",
            "Area of the House from Basement (in Sqft)    0\n",
            "Basement Area (in Sqft)                      0\n",
            "Age of House (in Years)                      0\n",
            "Renovated Year                               0\n",
            "Zipcode                                      0\n",
            "Latitude                                     0\n",
            "Longitude                                    0\n",
            "Living Area after Renovation (in Sqft)       0\n",
            "Lot Area after Renovation (in Sqft)          0\n",
            "dtype: int64\n"
          ]
        }
      ]
    },
    {
      "cell_type": "markdown",
      "source": [
        "Scaling Numerical Variables"
      ],
      "metadata": {
        "id": "czls64fihC-l"
      }
    },
    {
      "cell_type": "code",
      "source": [
        "num_cols = df.select_dtypes(include=['int64','float64']).columns\n",
        "scaler = StandardScaler()\n",
        "df[num_cols] = scaler.fit_transform(df[num_cols])\n"
      ],
      "metadata": {
        "id": "ZAglEcIvhDri"
      },
      "execution_count": 27,
      "outputs": []
    },
    {
      "cell_type": "markdown",
      "source": [
        "Encoding Categorical Variables"
      ],
      "metadata": {
        "id": "YioZSOE9hfBv"
      }
    },
    {
      "cell_type": "code",
      "source": [
        "df = pd.get_dummies(df, drop_first=True)\n",
        "print(df.shape)\n"
      ],
      "metadata": {
        "colab": {
          "base_uri": "https://localhost:8080/"
        },
        "id": "_APl4NhDhftb",
        "outputId": "f5582cd2-9b95-47b7-bfed-e7d9699d9528"
      },
      "execution_count": 28,
      "outputs": [
        {
          "output_type": "stream",
          "name": "stdout",
          "text": [
            "(21613, 37)\n"
          ]
        }
      ]
    },
    {
      "cell_type": "markdown",
      "source": [
        "Outlier Removal"
      ],
      "metadata": {
        "id": "HMOLCRoehqgT"
      }
    },
    {
      "cell_type": "code",
      "source": [
        "num_cols = df.select_dtypes(include=['int64','float64']).columns\n",
        "\n",
        "Q1 = df[num_cols].quantile(0.25)\n",
        "Q3 = df[num_cols].quantile(0.75)\n",
        "IQR = Q3 - Q1\n",
        "df = df[~((df[num_cols] < (Q1 - 1.5 * IQR)) | (df[num_cols] > (Q3 + 1.5 * IQR))).any(axis=1)]\n",
        "\n",
        "print(\"After outlier removal:\", df.shape)\n"
      ],
      "metadata": {
        "colab": {
          "base_uri": "https://localhost:8080/"
        },
        "id": "AnuZlVreiPdF",
        "outputId": "abc1fcb6-376d-4c9a-c083-ab85d003b570"
      },
      "execution_count": 29,
      "outputs": [
        {
          "output_type": "stream",
          "name": "stdout",
          "text": [
            "After outlier removal: (15900, 37)\n"
          ]
        }
      ]
    },
    {
      "cell_type": "markdown",
      "source": [
        "Train-Test Split"
      ],
      "metadata": {
        "id": "JApBKQpSiUDx"
      }
    },
    {
      "cell_type": "code",
      "source": [
        "X = df.drop(\"Sale Price\", axis=1)\n",
        "y = df[\"Sale Price\"]\n",
        "\n",
        "X_train, X_test, y_train, y_test = train_test_split(X, y, test_size=0.2, random_state=42)\n",
        "\n",
        "print(X_train.shape, X_test.shape, y_train.shape, y_test.shape)\n"
      ],
      "metadata": {
        "colab": {
          "base_uri": "https://localhost:8080/"
        },
        "id": "NjwDeG7qiUsd",
        "outputId": "ee43b984-a479-4276-abd7-df23913f3bfc"
      },
      "execution_count": 30,
      "outputs": [
        {
          "output_type": "stream",
          "name": "stdout",
          "text": [
            "(12720, 36) (3180, 36) (12720,) (3180,)\n"
          ]
        }
      ]
    }
  ]
}