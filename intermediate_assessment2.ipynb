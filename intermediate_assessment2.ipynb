{
  "nbformat": 4,
  "nbformat_minor": 0,
  "metadata": {
    "colab": {
      "provenance": []
    },
    "kernelspec": {
      "name": "python3",
      "display_name": "Python 3"
    },
    "language_info": {
      "name": "python"
    }
  },
  "cells": [
    {
      "cell_type": "code",
      "execution_count": null,
      "metadata": {
        "id": "SYdgt5Udr90w"
      },
      "outputs": [],
      "source": [
        "import pandas as pd\n",
        "\n",
        "train = pd.read_csv(\"/content/drive/MyDrive/Colab Notebooks/DSA/train_LZdllcl.csv\")\n",
        "test  = pd.read_csv(\"/content/drive/MyDrive/Colab Notebooks/DSA/test_2umaH9m.csv\")\n",
        "sample = pd.read_csv(\"/content/drive/MyDrive/Colab Notebooks/DSA/sample_submission_M0L0uXE.csv\")\n",
        "\n",
        "\n"
      ]
    },
    {
      "cell_type": "markdown",
      "source": [
        "Exploratory Data Analysis"
      ],
      "metadata": {
        "id": "5arcQjS9uoRQ"
      }
    },
    {
      "cell_type": "code",
      "source": [
        "print(\"Train shape:\", train.shape)\n",
        "print(\"Test shape:\", test.shape)\n",
        "print(\"\\nTarget distribution:\")\n",
        "print(train['is_promoted'].value_counts())\n",
        "print(\"\\nMissing values (train):\")\n",
        "print(train.isnull().sum().sort_values(ascending=False).head(10))\n",
        "print(\"\\nTrain numeric summary:\")\n",
        "print(train.describe().T[['count','mean','std','min','50%','max']])"
      ],
      "metadata": {
        "colab": {
          "base_uri": "https://localhost:8080/"
        },
        "id": "c3i0o1UPuCWJ",
        "outputId": "e1b81113-2584-46e5-dd24-34e22eff744c"
      },
      "execution_count": null,
      "outputs": [
        {
          "output_type": "stream",
          "name": "stdout",
          "text": [
            "Train shape: (54808, 14)\n",
            "Test shape: (23490, 13)\n",
            "\n",
            "Target distribution:\n",
            "is_promoted\n",
            "0    50140\n",
            "1     4668\n",
            "Name: count, dtype: int64\n",
            "\n",
            "Missing values (train):\n",
            "previous_year_rating    4124\n",
            "education               2409\n",
            "department                 0\n",
            "region                     0\n",
            "gender                     0\n",
            "employee_id                0\n",
            "recruitment_channel        0\n",
            "no_of_trainings            0\n",
            "age                        0\n",
            "length_of_service          0\n",
            "dtype: int64\n",
            "\n",
            "Train numeric summary:\n",
            "                        count          mean           std   min      50%  \\\n",
            "employee_id           54808.0  39195.830627  22586.581449   1.0  39225.5   \n",
            "no_of_trainings       54808.0      1.253011      0.609264   1.0      1.0   \n",
            "age                   54808.0     34.803915      7.660169  20.0     33.0   \n",
            "previous_year_rating  50684.0      3.329256      1.259993   1.0      3.0   \n",
            "length_of_service     54808.0      5.865512      4.265094   1.0      5.0   \n",
            "KPIs_met >80%         54808.0      0.351974      0.477590   0.0      0.0   \n",
            "awards_won?           54808.0      0.023172      0.150450   0.0      0.0   \n",
            "avg_training_score    54808.0     63.386750     13.371559  39.0     60.0   \n",
            "is_promoted           54808.0      0.085170      0.279137   0.0      0.0   \n",
            "\n",
            "                          max  \n",
            "employee_id           78298.0  \n",
            "no_of_trainings          10.0  \n",
            "age                      60.0  \n",
            "previous_year_rating      5.0  \n",
            "length_of_service        37.0  \n",
            "KPIs_met >80%             1.0  \n",
            "awards_won?               1.0  \n",
            "avg_training_score       99.0  \n",
            "is_promoted               1.0  \n"
          ]
        }
      ]
    },
    {
      "cell_type": "markdown",
      "source": [
        "Preprocessing"
      ],
      "metadata": {
        "id": "zTTr5MB6ux59"
      }
    },
    {
      "cell_type": "code",
      "source": [
        "import numpy as np\n",
        "ID_COL = \"employee_id\"\n",
        "TARGET = \"is_promoted\""
      ],
      "metadata": {
        "id": "SL6oZX1Jt9dF"
      },
      "execution_count": null,
      "outputs": []
    },
    {
      "cell_type": "code",
      "source": [
        "X_train = train.drop([ID_COL, TARGET], axis=1).copy()\n",
        "y_train = train[TARGET].copy()\n",
        "X_test = test.drop([ID_COL], axis=1).copy()"
      ],
      "metadata": {
        "id": "-bH1ahcEuJzm"
      },
      "execution_count": null,
      "outputs": []
    },
    {
      "cell_type": "code",
      "source": [
        "numeric_cols = X_train.select_dtypes(include=['int64','float64']).columns.tolist()\n",
        "categorical_cols = [c for c in X_train.columns if c not in numeric_cols]"
      ],
      "metadata": {
        "id": "rH8sd7YHuONc"
      },
      "execution_count": null,
      "outputs": []
    },
    {
      "cell_type": "code",
      "source": [
        "num_medians = X_train[numeric_cols].median()\n",
        "X_train[numeric_cols] = X_train[numeric_cols].fillna(num_medians)\n",
        "X_test[numeric_cols]  = X_test[numeric_cols].fillna(num_medians)"
      ],
      "metadata": {
        "id": "nTEoneMRuWNl"
      },
      "execution_count": null,
      "outputs": []
    },
    {
      "cell_type": "code",
      "source": [
        "for c in categorical_cols:\n",
        "    X_train[c] = X_train[c].fillna('Unknown').astype(str)\n",
        "    X_test[c]  = X_test[c].fillna('Unknown').astype(str)"
      ],
      "metadata": {
        "id": "lcDc5wFeuZ0n"
      },
      "execution_count": null,
      "outputs": []
    },
    {
      "cell_type": "code",
      "source": [
        "X_train_ohe = pd.get_dummies(X_train, columns=categorical_cols, drop_first=False)\n",
        "X_test_ohe  = pd.get_dummies(X_test,  columns=categorical_cols, drop_first=False)"
      ],
      "metadata": {
        "id": "op20dq0yuab1"
      },
      "execution_count": null,
      "outputs": []
    },
    {
      "cell_type": "code",
      "source": [
        "X_test_ohe = X_test_ohe.reindex(columns=X_train_ohe.columns, fill_value=0)\n",
        "\n",
        "print(\"Processed shapes:\", X_train_ohe.shape, X_test_ohe.shape)"
      ],
      "metadata": {
        "colab": {
          "base_uri": "https://localhost:8080/"
        },
        "id": "UmpaBNi7uhwc",
        "outputId": "9ce1a91b-9a77-4320-bc4e-ab78905feac6"
      },
      "execution_count": null,
      "outputs": [
        {
          "output_type": "stream",
          "name": "stdout",
          "text": [
            "Processed shapes: (54808, 59) (23490, 59)\n"
          ]
        }
      ]
    },
    {
      "cell_type": "markdown",
      "source": [
        "Modeling"
      ],
      "metadata": {
        "id": "55eyrT6XvDvH"
      }
    },
    {
      "cell_type": "code",
      "source": [
        "from sklearn.linear_model import LogisticRegression\n",
        "from sklearn.model_selection import StratifiedKFold\n",
        "from sklearn.metrics import f1_score\n",
        "import numpy as np"
      ],
      "metadata": {
        "id": "FDfo8cJqvFnD"
      },
      "execution_count": null,
      "outputs": []
    },
    {
      "cell_type": "code",
      "source": [
        "model = LogisticRegression(max_iter=1000, class_weight='balanced', random_state=42)\n",
        "\n",
        "skf = StratifiedKFold(n_splits=5, shuffle=True, random_state=42)\n",
        "f1_scores = []\n",
        "\n",
        "for tr_idx, val_idx in skf.split(X_train_ohe, y_train):\n",
        "    model.fit(X_train_ohe.iloc[tr_idx], y_train.iloc[tr_idx])\n",
        "    preds = model.predict(X_train_ohe.iloc[val_idx])\n",
        "    f1_scores.append(f1_score(y_train.iloc[val_idx], preds))\n",
        "    print(\"Logistic Regression CV F1 mean:\", np.mean(f1_scores), \"std:\", np.std(f1_scores))"
      ],
      "metadata": {
        "colab": {
          "base_uri": "https://localhost:8080/"
        },
        "id": "30DaRLNmuiSk",
        "outputId": "f23306db-9c85-4c2f-8963-8f1aafb8c4a3"
      },
      "execution_count": null,
      "outputs": [
        {
          "output_type": "stream",
          "name": "stderr",
          "text": [
            "/usr/local/lib/python3.12/dist-packages/sklearn/linear_model/_logistic.py:465: ConvergenceWarning: lbfgs failed to converge (status=1):\n",
            "STOP: TOTAL NO. OF ITERATIONS REACHED LIMIT.\n",
            "\n",
            "Increase the number of iterations (max_iter) or scale the data as shown in:\n",
            "    https://scikit-learn.org/stable/modules/preprocessing.html\n",
            "Please also refer to the documentation for alternative solver options:\n",
            "    https://scikit-learn.org/stable/modules/linear_model.html#logistic-regression\n",
            "  n_iter_i = _check_optimize_result(\n"
          ]
        },
        {
          "output_type": "stream",
          "name": "stdout",
          "text": [
            "Logistic Regression CV F1 mean: 0.3778374420307542 std: 0.0\n"
          ]
        },
        {
          "output_type": "stream",
          "name": "stderr",
          "text": [
            "/usr/local/lib/python3.12/dist-packages/sklearn/linear_model/_logistic.py:465: ConvergenceWarning: lbfgs failed to converge (status=1):\n",
            "STOP: TOTAL NO. OF ITERATIONS REACHED LIMIT.\n",
            "\n",
            "Increase the number of iterations (max_iter) or scale the data as shown in:\n",
            "    https://scikit-learn.org/stable/modules/preprocessing.html\n",
            "Please also refer to the documentation for alternative solver options:\n",
            "    https://scikit-learn.org/stable/modules/linear_model.html#logistic-regression\n",
            "  n_iter_i = _check_optimize_result(\n"
          ]
        },
        {
          "output_type": "stream",
          "name": "stdout",
          "text": [
            "Logistic Regression CV F1 mean: 0.3753593989814788 std: 0.0024780430492754024\n"
          ]
        },
        {
          "output_type": "stream",
          "name": "stderr",
          "text": [
            "/usr/local/lib/python3.12/dist-packages/sklearn/linear_model/_logistic.py:465: ConvergenceWarning: lbfgs failed to converge (status=1):\n",
            "STOP: TOTAL NO. OF ITERATIONS REACHED LIMIT.\n",
            "\n",
            "Increase the number of iterations (max_iter) or scale the data as shown in:\n",
            "    https://scikit-learn.org/stable/modules/preprocessing.html\n",
            "Please also refer to the documentation for alternative solver options:\n",
            "    https://scikit-learn.org/stable/modules/linear_model.html#logistic-regression\n",
            "  n_iter_i = _check_optimize_result(\n"
          ]
        },
        {
          "output_type": "stream",
          "name": "stdout",
          "text": [
            "Logistic Regression CV F1 mean: 0.37373259378172224 std: 0.0030637866361663017\n"
          ]
        },
        {
          "output_type": "stream",
          "name": "stderr",
          "text": [
            "/usr/local/lib/python3.12/dist-packages/sklearn/linear_model/_logistic.py:465: ConvergenceWarning: lbfgs failed to converge (status=1):\n",
            "STOP: TOTAL NO. OF ITERATIONS REACHED LIMIT.\n",
            "\n",
            "Increase the number of iterations (max_iter) or scale the data as shown in:\n",
            "    https://scikit-learn.org/stable/modules/preprocessing.html\n",
            "Please also refer to the documentation for alternative solver options:\n",
            "    https://scikit-learn.org/stable/modules/linear_model.html#logistic-regression\n",
            "  n_iter_i = _check_optimize_result(\n"
          ]
        },
        {
          "output_type": "stream",
          "name": "stdout",
          "text": [
            "Logistic Regression CV F1 mean: 0.37559617028088665 std: 0.004178378096663409\n",
            "Logistic Regression CV F1 mean: 0.3747314093857431 std: 0.004118048134495149\n"
          ]
        },
        {
          "output_type": "stream",
          "name": "stderr",
          "text": [
            "/usr/local/lib/python3.12/dist-packages/sklearn/linear_model/_logistic.py:465: ConvergenceWarning: lbfgs failed to converge (status=1):\n",
            "STOP: TOTAL NO. OF ITERATIONS REACHED LIMIT.\n",
            "\n",
            "Increase the number of iterations (max_iter) or scale the data as shown in:\n",
            "    https://scikit-learn.org/stable/modules/preprocessing.html\n",
            "Please also refer to the documentation for alternative solver options:\n",
            "    https://scikit-learn.org/stable/modules/linear_model.html#logistic-regression\n",
            "  n_iter_i = _check_optimize_result(\n"
          ]
        }
      ]
    },
    {
      "cell_type": "markdown",
      "source": [
        "Tuning"
      ],
      "metadata": {
        "id": "4GmRvYpCwzye"
      }
    },
    {
      "cell_type": "code",
      "source": [
        "from sklearn.ensemble import RandomForestClassifier\n",
        "from sklearn.model_selection import RandomizedSearchCV"
      ],
      "metadata": {
        "id": "BdlXeML4w3qb"
      },
      "execution_count": null,
      "outputs": []
    },
    {
      "cell_type": "code",
      "source": [
        "rf = RandomForestClassifier(class_weight='balanced', random_state=42, n_jobs=-1)\n",
        "param_dist = {\n",
        "    'n_estimators': [100, 200, 400],\n",
        "    'max_depth': [None, 5, 10],\n",
        "    'min_samples_split': [2, 5]\n",
        "}\n",
        "\n",
        "rs = RandomizedSearchCV(rf, param_distributions=param_dist, n_iter=6,\n",
        "                        scoring='f1', cv=3, random_state=42, n_jobs=-1, verbose=1)\n",
        "\n",
        "rs.fit(X_train_ohe, y_train)\n",
        "print(\"Best params:\", rs.best_params_)\n",
        "print(\"Best CV F1 (search):\", rs.best_score_)\n",
        "\n",
        "best_model = rs.best_estimator_"
      ],
      "metadata": {
        "colab": {
          "base_uri": "https://localhost:8080/"
        },
        "id": "SmM54ZUBvQFE",
        "outputId": "58fb5ba3-a335-4230-d449-d399acadd8e7"
      },
      "execution_count": null,
      "outputs": [
        {
          "output_type": "stream",
          "name": "stdout",
          "text": [
            "Fitting 3 folds for each of 6 candidates, totalling 18 fits\n",
            "Best params: {'n_estimators': 400, 'min_samples_split': 5, 'max_depth': None}\n",
            "Best CV F1 (search): 0.4557978320831891\n"
          ]
        }
      ]
    },
    {
      "cell_type": "code",
      "source": [
        "best_model.fit(X_train_ohe, y_train)\n",
        "test_preds = best_model.predict(X_test_ohe).astype(int)\n",
        "submission = sample.copy()\n",
        "if 'is_promoted' in submission.columns:\n",
        "    submission['is_promoted'] = test_preds\n",
        "else:\n",
        "    submission.iloc[:, -1] = test_preds\n",
        "submission.to_csv(\"/content/drive/MyDrive/Colab Notebooks/DSA/assesment.csv\", index=False)\n",
        "print(\"Saved submission to  /content/drive/MyDrive/Colab Notebooks/DSA/assesment.csv\")\n",
        "print(\"Submission head:\")\n",
        "print(submission.head())\n"
      ],
      "metadata": {
        "colab": {
          "base_uri": "https://localhost:8080/"
        },
        "id": "SG6myI_pzHRi",
        "outputId": "2dd9bbb7-44d5-4340-bb4d-9a831a2b619b"
      },
      "execution_count": null,
      "outputs": [
        {
          "output_type": "stream",
          "name": "stdout",
          "text": [
            "Saved submission to  /content/drive/MyDrive/Colab Notebooks/DSA/assesment.csv\n",
            "Submission head:\n",
            "   employee_id  is_promoted\n",
            "0         8724            0\n",
            "1        74430            0\n",
            "2        72255            0\n",
            "3        38562            0\n",
            "4        64486            0\n"
          ]
        }
      ]
    }
  ]
}