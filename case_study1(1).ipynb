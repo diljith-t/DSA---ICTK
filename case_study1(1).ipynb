{
  "nbformat": 4,
  "nbformat_minor": 0,
  "metadata": {
    "colab": {
      "provenance": []
    },
    "kernelspec": {
      "name": "python3",
      "display_name": "Python 3"
    },
    "language_info": {
      "name": "python"
    }
  },
  "cells": [
    {
      "cell_type": "code",
      "source": [
        "#BANK ACCOUNT MANAGER\n",
        "#account information\n",
        "account_holder = \"Diljith\"\n",
        "account_balance = 1000.0"
      ],
      "metadata": {
        "id": "fEagivHWy_cv"
      },
      "execution_count": null,
      "outputs": []
    },
    {
      "cell_type": "code",
      "source": [
        "#function to check balance\n",
        "def check_balance():\n",
        "    print(f\"Current balance: ${account_balance:.2f}\")"
      ],
      "metadata": {
        "id": "9ok1sKUAz1JH"
      },
      "execution_count": null,
      "outputs": []
    },
    {
      "cell_type": "code",
      "source": [
        "#function to deposit money\n",
        "def deposit(amount):\n",
        "    global account_balance\n",
        "    if amount > 0:\n",
        "        account_balance += amount\n",
        "        print(f\"${amount:.2f} deposited successfully.\")\n",
        "    else:\n",
        "        print(\"Deposit amount must be greater than 0.\")\n"
      ],
      "metadata": {
        "id": "onAs5qev0dKC"
      },
      "execution_count": null,
      "outputs": []
    },
    {
      "cell_type": "code",
      "source": [
        "#function to withdraw money\n",
        "def withdraw(amount):\n",
        "    global account_balance\n",
        "    if amount <= 0:\n",
        "        print(\"Withdrawal amount must be greater than 0.\")\n",
        "    elif amount > account_balance:\n",
        "        print(\"Insufficient balance. Transaction cancelled.\")\n",
        "    else:\n",
        "        account_balance -= amount\n",
        "        print(f\"${amount:.2f} withdrawn successfully.\")"
      ],
      "metadata": {
        "id": "qnoEEcSK0jPh"
      },
      "execution_count": null,
      "outputs": []
    },
    {
      "cell_type": "code",
      "source": [
        "#bank system menu\n",
        "def bank_menu():\n",
        "    while True:\n",
        "        print(\"\\n===== Bank Account Manager =====\")\n",
        "        print(\"1. Check Balance\")\n",
        "        print(\"2. Deposit Money\")\n",
        "        print(\"3. Withdraw Money\")\n",
        "        print(\"4. Exit\")\n",
        "        choice = input(\"Enter your choice (1-4): \")\n",
        "\n",
        "        if choice == \"1\":\n",
        "            check_balance()\n",
        "        elif choice == \"2\":\n",
        "            amount = float(input(\"Enter amount to deposit: $\"))\n",
        "            deposit(amount)\n",
        "        elif choice == \"3\":\n",
        "            amount = float(input(\"Enter amount to withdraw: $\"))\n",
        "            withdraw(amount)\n",
        "        elif choice == \"4\":\n",
        "            print(\"Thank you for using the Bank Account Manager.\")\n",
        "            break\n",
        "        else:\n",
        "            print(\"Invalid choice. Please try again.\")\n",
        "bank_menu()"
      ],
      "metadata": {
        "colab": {
          "base_uri": "https://localhost:8080/"
        },
        "id": "D8OsoHtb1H9J",
        "outputId": "d83f3122-528f-46a3-8e74-83e5490a3b65"
      },
      "execution_count": null,
      "outputs": [
        {
          "output_type": "stream",
          "name": "stdout",
          "text": [
            "\n",
            "===== Bank Account Manager =====\n",
            "1. Check Balance\n",
            "2. Deposit Money\n",
            "3. Withdraw Money\n",
            "4. Exit\n",
            "Enter your choice (1-4): 1\n",
            "Current balance: $1000.00\n",
            "\n",
            "===== Bank Account Manager =====\n",
            "1. Check Balance\n",
            "2. Deposit Money\n",
            "3. Withdraw Money\n",
            "4. Exit\n",
            "Enter your choice (1-4): 2\n",
            "Enter amount to deposit: $500\n",
            "$500.00 deposited successfully.\n",
            "\n",
            "===== Bank Account Manager =====\n",
            "1. Check Balance\n",
            "2. Deposit Money\n",
            "3. Withdraw Money\n",
            "4. Exit\n",
            "Enter your choice (1-4): 1\n",
            "Current balance: $1500.00\n",
            "\n",
            "===== Bank Account Manager =====\n",
            "1. Check Balance\n",
            "2. Deposit Money\n",
            "3. Withdraw Money\n",
            "4. Exit\n",
            "Enter your choice (1-4): 3\n",
            "Enter amount to withdraw: $2000\n",
            "Insufficient balance. Transaction cancelled.\n",
            "\n",
            "===== Bank Account Manager =====\n",
            "1. Check Balance\n",
            "2. Deposit Money\n",
            "3. Withdraw Money\n",
            "4. Exit\n",
            "Enter your choice (1-4): 3\n",
            "Enter amount to withdraw: $1000\n",
            "$1000.00 withdrawn successfully.\n",
            "\n",
            "===== Bank Account Manager =====\n",
            "1. Check Balance\n",
            "2. Deposit Money\n",
            "3. Withdraw Money\n",
            "4. Exit\n",
            "Enter your choice (1-4): 1\n",
            "Current balance: $500.00\n",
            "\n",
            "===== Bank Account Manager =====\n",
            "1. Check Balance\n",
            "2. Deposit Money\n",
            "3. Withdraw Money\n",
            "4. Exit\n",
            "Enter your choice (1-4): 4\n",
            "Thank you for using the Bank Account Manager.\n"
          ]
        }
      ]
    },
    {
      "cell_type": "code",
      "source": [
        "#Weather Data Analyzer\n",
        "#temperature and humidity data for 3 days\n",
        "temperatures = []\n",
        "humidities = []\n",
        "\n",
        "print(\"Enter temperature and humidity for 3 days:\")\n",
        "for i in range(3):\n",
        "    temp = int(input(f\"Day {i+1} temperature (°C): \"))\n",
        "    hum = int(input(f\"Day {i+1} humidity (%): \"))\n",
        "    temperatures.append(temp)\n",
        "    humidities.append(hum)\n",
        "\n",
        "#calculate averages\n",
        "avg_temp = sum(temperatures) / 3\n",
        "avg_hum = sum(humidities) / 3\n",
        "\n",
        "#weather condition\n",
        "temp = temperatures[-1]\n",
        "hum = humidities[-1]\n",
        "\n",
        "print(\"\\n=== Weather Report ===\")\n",
        "print(f\"Average Temperature: {avg_temp:.1f}°C\")\n",
        "print(f\"Average Humidity: {avg_hum:.1f}%\")\n",
        "\n",
        "print(\"\\n Weather condition:\")\n",
        "if temp >= 30 and hum < 50:\n",
        "    print(\"Hot and dry (Sunny)\")\n",
        "elif temp >= 30 and hum >= 50:\n",
        "    print(\"Hot and humid\")\n",
        "elif temp < 30 and hum >= 60:\n",
        "    print(\"Rainy or cloudy\")\n",
        "else:\n",
        "    print(\"Mild or mixed weather\")\n"
      ],
      "metadata": {
        "colab": {
          "base_uri": "https://localhost:8080/"
        },
        "id": "GuquAolZB20Z",
        "outputId": "fba8c520-c693-4aed-d372-0de901236737"
      },
      "execution_count": 1,
      "outputs": [
        {
          "output_type": "stream",
          "name": "stdout",
          "text": [
            "Enter temperature and humidity for 3 days:\n",
            "Day 1 temperature (°C): 28\n",
            "Day 1 humidity (%): 42\n",
            "Day 2 temperature (°C): 32\n",
            "Day 2 humidity (%): 50\n",
            "Day 3 temperature (°C): 31\n",
            "Day 3 humidity (%): 47\n",
            "\n",
            "=== Weather Report ===\n",
            "Average Temperature: 30.3°C\n",
            "Average Humidity: 46.3%\n",
            "\n",
            " Weather condition:\n",
            "Hot and dry (Sunny)\n"
          ]
        }
      ]
    }
  ]
}