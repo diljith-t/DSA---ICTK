{
  "nbformat": 4,
  "nbformat_minor": 0,
  "metadata": {
    "colab": {
      "provenance": []
    },
    "kernelspec": {
      "name": "python3",
      "display_name": "Python 3"
    },
    "language_info": {
      "name": "python"
    }
  },
  "cells": [
    {
      "cell_type": "code",
      "source": [
        "#1.1 dataset of 10 sales\n",
        "sales_data = [\n",
        "    {'order_id': 1, 'customer': 'Anu', 'item': 'Laptop', 'quantity': 1, 'price_per_item': 55000.0, 'order_date': '2025-07-01'},\n",
        "    {'order_id': 2, 'customer': 'Jinu', 'item': 'Smartphone', 'quantity': 2, 'price_per_item': 15000.0, 'order_date': '2025-07-02'},\n",
        "    {'order_id': 3, 'customer': 'Diljith', 'item': 'Keyboard', 'quantity': 1, 'price_per_item': 700.0, 'order_date': '2025-07-03'},\n",
        "    {'order_id': 4, 'customer': 'Diya', 'item': 'Monitor', 'quantity': 2, 'price_per_item': 12000.0, 'order_date': '2025-07-04'},\n",
        "    {'order_id': 5, 'customer': 'Dinu', 'item': 'Mouse', 'quantity': 3, 'price_per_item': 500.0, 'order_date': '2025-07-05'},\n",
        "    {'order_id': 6, 'customer': 'Briji', 'item': 'Laptop', 'quantity': 1, 'price_per_item': 60000.0, 'order_date': '2025-07-06'},\n",
        "    {'order_id': 7, 'customer': 'Yadu', 'item': 'Smartwatch', 'quantity': 1, 'price_per_item': 1500.0, 'order_date': '2025-07-07'},\n",
        "    {'order_id': 8, 'customer': 'Naval', 'item': 'Tablet', 'quantity': 1, 'price_per_item': 20000.0, 'order_date': '2025-07-08'},\n",
        "    {'order_id': 9, 'customer': 'Akshay', 'item': 'Earbuds', 'quantity': 3, 'price_per_item': 3000.0, 'order_date': '2025-07-09'},\n",
        "    {'order_id': 10, 'customer': 'Sreerag', 'item': 'Charger', 'quantity': 4, 'price_per_item': 400.0, 'order_date': '2025-07-10'}\n",
        "]\n",
        "\n",
        "for order in sales_data:\n",
        "    print(order)\n"
      ],
      "metadata": {
        "colab": {
          "base_uri": "https://localhost:8080/"
        },
        "id": "hWPBawPllTD3",
        "outputId": "40d97b4a-373d-42dc-ad1a-899f33a623f2"
      },
      "execution_count": null,
      "outputs": [
        {
          "output_type": "stream",
          "name": "stdout",
          "text": [
            "{'order_id': 1, 'customer': 'Anu', 'item': 'Laptop', 'quantity': 1, 'price_per_item': 55000.0, 'order_date': '2025-07-01'}\n",
            "{'order_id': 2, 'customer': 'Jinu', 'item': 'Smartphone', 'quantity': 2, 'price_per_item': 15000.0, 'order_date': '2025-07-02'}\n",
            "{'order_id': 3, 'customer': 'Diljith', 'item': 'Keyboard', 'quantity': 1, 'price_per_item': 700.0, 'order_date': '2025-07-03'}\n",
            "{'order_id': 4, 'customer': 'Diya', 'item': 'Monitor', 'quantity': 2, 'price_per_item': 12000.0, 'order_date': '2025-07-04'}\n",
            "{'order_id': 5, 'customer': 'Dinu', 'item': 'Mouse', 'quantity': 3, 'price_per_item': 500.0, 'order_date': '2025-07-05'}\n",
            "{'order_id': 6, 'customer': 'Briji', 'item': 'Laptop', 'quantity': 1, 'price_per_item': 60000.0, 'order_date': '2025-07-06'}\n",
            "{'order_id': 7, 'customer': 'Yadu', 'item': 'Smartwatch', 'quantity': 1, 'price_per_item': 1500.0, 'order_date': '2025-07-07'}\n",
            "{'order_id': 8, 'customer': 'Naval', 'item': 'Tablet', 'quantity': 1, 'price_per_item': 20000.0, 'order_date': '2025-07-08'}\n",
            "{'order_id': 9, 'customer': 'Akshay', 'item': 'Earbuds', 'quantity': 3, 'price_per_item': 3000.0, 'order_date': '2025-07-09'}\n",
            "{'order_id': 10, 'customer': 'Sreerag', 'item': 'Charger', 'quantity': 4, 'price_per_item': 400.0, 'order_date': '2025-07-10'}\n"
          ]
        }
      ]
    },
    {
      "cell_type": "code",
      "source": [
        "#2.1 calculate total revenue\n",
        "total_revenue = sum(order[\"quantity\"] * order[\"price_per_item\"] for order in sales_data)\n",
        "print(\"Total Revenue (INR):\", total_revenue)\n"
      ],
      "metadata": {
        "colab": {
          "base_uri": "https://localhost:8080/"
        },
        "id": "AnTYE9W0lZ0T",
        "outputId": "527a4543-72ed-4b84-ffc9-b7d57ca7a040"
      },
      "execution_count": null,
      "outputs": [
        {
          "output_type": "stream",
          "name": "stdout",
          "text": [
            "Total Revenue (INR): 203300.0\n"
          ]
        }
      ]
    },
    {
      "cell_type": "code",
      "source": [
        "#2.2 orders with total value > 2000\n",
        "high_value_orders = [order for order in sales_data if order[\"quantity\"] * order[\"price_per_item\"] > 2000]\n",
        "print(\"High Value Orders (> ₹2000):\")\n",
        "for order in high_value_orders:\n",
        "    print(order)\n"
      ],
      "metadata": {
        "colab": {
          "base_uri": "https://localhost:8080/"
        },
        "id": "7et0dxHwlXYT",
        "outputId": "d1acdf8c-1a26-4c8d-a614-0eda17495884"
      },
      "execution_count": null,
      "outputs": [
        {
          "output_type": "stream",
          "name": "stdout",
          "text": [
            "High Value Orders (> ₹2000):\n",
            "{'order_id': 1, 'customer': 'Anu', 'item': 'Laptop', 'quantity': 1, 'price_per_item': 55000.0, 'order_date': '2025-07-01'}\n",
            "{'order_id': 2, 'customer': 'Jinu', 'item': 'Smartphone', 'quantity': 2, 'price_per_item': 15000.0, 'order_date': '2025-07-02'}\n",
            "{'order_id': 4, 'customer': 'Diya', 'item': 'Monitor', 'quantity': 2, 'price_per_item': 12000.0, 'order_date': '2025-07-04'}\n",
            "{'order_id': 6, 'customer': 'Briji', 'item': 'Laptop', 'quantity': 1, 'price_per_item': 60000.0, 'order_date': '2025-07-06'}\n",
            "{'order_id': 8, 'customer': 'Naval', 'item': 'Tablet', 'quantity': 1, 'price_per_item': 20000.0, 'order_date': '2025-07-08'}\n",
            "{'order_id': 9, 'customer': 'Akshay', 'item': 'Earbuds', 'quantity': 3, 'price_per_item': 3000.0, 'order_date': '2025-07-09'}\n"
          ]
        }
      ]
    },
    {
      "cell_type": "code",
      "source": [
        "#2.3 find item with highest total quantity sold\n",
        "\n",
        "item_quantities = {}\n",
        "for order in sales_data:\n",
        "    item = order['item']\n",
        "    quantity = order['quantity']\n",
        "    if item in item_quantities:\n",
        "        item_quantities[item] += quantity\n",
        "    else:\n",
        "        item_quantities[item] = quantity\n",
        "most_sold_item = max(item_quantities, key=item_quantities.get)\n",
        "print('Most Sold Item:', most_sold_item)\n"
      ],
      "metadata": {
        "colab": {
          "base_uri": "https://localhost:8080/"
        },
        "id": "I3LyeH60o8sf",
        "outputId": "634a5938-6586-4c84-8b1a-0fae8bbca790"
      },
      "execution_count": null,
      "outputs": [
        {
          "output_type": "stream",
          "name": "stdout",
          "text": [
            "Most Sold Item: Charger\n"
          ]
        }
      ]
    },
    {
      "cell_type": "code",
      "source": [
        "#3.1 function to apply discount\n",
        "def apply_discount(orders, discount_rate):\n",
        "    result = []\n",
        "    for order in orders:\n",
        "        order_copy = order.copy()\n",
        "        order_copy['price_per_item'] = round(order_copy['price_per_item'] * (1 - discount_rate), 2)\n",
        "        result.append(order_copy)\n",
        "    return result\n",
        "discounted_sales = apply_discount(sales_data, 0.10)\n",
        "print(\"Discounted Sales Data:\")\n",
        "for order in discounted_sales:\n",
        "    print(order)\n"
      ],
      "metadata": {
        "colab": {
          "base_uri": "https://localhost:8080/"
        },
        "id": "e6KtaXSZouja",
        "outputId": "c851dd0f-0752-4c9b-f17e-b20a97364169"
      },
      "execution_count": null,
      "outputs": [
        {
          "output_type": "stream",
          "name": "stdout",
          "text": [
            "Discounted Sales Data:\n",
            "{'order_id': 1, 'customer': 'Anu', 'item': 'Laptop', 'quantity': 1, 'price_per_item': 49500.0, 'order_date': '2025-07-01'}\n",
            "{'order_id': 2, 'customer': 'Jinu', 'item': 'Smartphone', 'quantity': 2, 'price_per_item': 13500.0, 'order_date': '2025-07-02'}\n",
            "{'order_id': 3, 'customer': 'Diljith', 'item': 'Keyboard', 'quantity': 1, 'price_per_item': 630.0, 'order_date': '2025-07-03'}\n",
            "{'order_id': 4, 'customer': 'Diya', 'item': 'Monitor', 'quantity': 2, 'price_per_item': 10800.0, 'order_date': '2025-07-04'}\n",
            "{'order_id': 5, 'customer': 'Dinu', 'item': 'Mouse', 'quantity': 3, 'price_per_item': 450.0, 'order_date': '2025-07-05'}\n",
            "{'order_id': 6, 'customer': 'Briji', 'item': 'Laptop', 'quantity': 1, 'price_per_item': 54000.0, 'order_date': '2025-07-06'}\n",
            "{'order_id': 7, 'customer': 'Yadu', 'item': 'Smartwatch', 'quantity': 1, 'price_per_item': 1350.0, 'order_date': '2025-07-07'}\n",
            "{'order_id': 8, 'customer': 'Naval', 'item': 'Tablet', 'quantity': 1, 'price_per_item': 18000.0, 'order_date': '2025-07-08'}\n",
            "{'order_id': 9, 'customer': 'Akshay', 'item': 'Earbuds', 'quantity': 3, 'price_per_item': 2700.0, 'order_date': '2025-07-09'}\n",
            "{'order_id': 10, 'customer': 'Sreerag', 'item': 'Charger', 'quantity': 4, 'price_per_item': 360.0, 'order_date': '2025-07-10'}\n"
          ]
        }
      ]
    },
    {
      "cell_type": "code",
      "source": [
        "#3.2 example of local vs global variable\n",
        "global_value = 100  #global variable\n",
        "\n",
        "def show_scope():\n",
        "    local_value = 50  #local variable\n",
        "    print(\"Inside function, local_value:\", local_value)\n",
        "    print(\"Inside function, global_value:\", global_value)\n",
        "\n",
        "show_scope()\n",
        "print(\"Outside function, global_value:\", global_value)\n",
        "\n",
        "#global variable is declared outside of the function and accesible anywhere in program\n",
        "#local variable is declared inside the function it only exists within that function\n"
      ],
      "metadata": {
        "colab": {
          "base_uri": "https://localhost:8080/"
        },
        "id": "4pYfly9htng3",
        "outputId": "65fb0649-be39-4cc9-d8e0-5da095553a8c"
      },
      "execution_count": null,
      "outputs": [
        {
          "output_type": "stream",
          "name": "stdout",
          "text": [
            "Inside function, local_value: 50\n",
            "Inside function, global_value: 100\n",
            "Outside function, global_value: 100\n"
          ]
        }
      ]
    },
    {
      "cell_type": "code",
      "source": [
        "#4.1 custom iterator\n",
        "class OrderIterator:\n",
        "    def __init__(self, orders):\n",
        "        self.orders = orders\n",
        "        self.index = 0\n",
        "    def __iter__(self):\n",
        "        return self\n",
        "    def __next__(self):\n",
        "        if self.index < len(self.orders):\n",
        "            order = self.orders[self.index]\n",
        "            self.index += 1\n",
        "            return order\n",
        "        else:\n",
        "            raise StopIteration\n",
        "print(\"Iterating Orders using OrderIterator:\")\n",
        "order_iter = OrderIterator(sales_data)\n",
        "for order in order_iter:\n",
        "    print(order)\n"
      ],
      "metadata": {
        "colab": {
          "base_uri": "https://localhost:8080/"
        },
        "id": "b_YYhO0nt4DF",
        "outputId": "99c3e7b9-b1a9-413a-efc6-bea1699da2a9"
      },
      "execution_count": null,
      "outputs": [
        {
          "output_type": "stream",
          "name": "stdout",
          "text": [
            "Iterating Orders using OrderIterator:\n",
            "{'order_id': 1, 'customer': 'Anu', 'item': 'Laptop', 'quantity': 1, 'price_per_item': 55000.0, 'order_date': '2025-07-01'}\n",
            "{'order_id': 2, 'customer': 'Jinu', 'item': 'Smartphone', 'quantity': 2, 'price_per_item': 15000.0, 'order_date': '2025-07-02'}\n",
            "{'order_id': 3, 'customer': 'Diljith', 'item': 'Keyboard', 'quantity': 1, 'price_per_item': 700.0, 'order_date': '2025-07-03'}\n",
            "{'order_id': 4, 'customer': 'Diya', 'item': 'Monitor', 'quantity': 2, 'price_per_item': 12000.0, 'order_date': '2025-07-04'}\n",
            "{'order_id': 5, 'customer': 'Dinu', 'item': 'Mouse', 'quantity': 3, 'price_per_item': 500.0, 'order_date': '2025-07-05'}\n",
            "{'order_id': 6, 'customer': 'Briji', 'item': 'Laptop', 'quantity': 1, 'price_per_item': 60000.0, 'order_date': '2025-07-06'}\n",
            "{'order_id': 7, 'customer': 'Yadu', 'item': 'Smartwatch', 'quantity': 1, 'price_per_item': 1500.0, 'order_date': '2025-07-07'}\n",
            "{'order_id': 8, 'customer': 'Naval', 'item': 'Tablet', 'quantity': 1, 'price_per_item': 20000.0, 'order_date': '2025-07-08'}\n",
            "{'order_id': 9, 'customer': 'Akshay', 'item': 'Earbuds', 'quantity': 3, 'price_per_item': 3000.0, 'order_date': '2025-07-09'}\n",
            "{'order_id': 10, 'customer': 'Sreerag', 'item': 'Charger', 'quantity': 4, 'price_per_item': 400.0, 'order_date': '2025-07-10'}\n"
          ]
        }
      ]
    },
    {
      "cell_type": "code",
      "source": [
        "#4.2 grouping all orders by customer\n",
        "grouped_orders = {}\n",
        "for order in sales_data:\n",
        "    customer = order['customer']\n",
        "    if customer not in grouped_orders:\n",
        "        grouped_orders[customer] = []\n",
        "    grouped_orders[customer].append(order)\n",
        "print(\"Orders Grouped by Customer:\")\n",
        "for customer, orders in grouped_orders.items():\n",
        "    print(f\"{customer}: {orders}\")\n"
      ],
      "metadata": {
        "colab": {
          "base_uri": "https://localhost:8080/"
        },
        "id": "FYhWBbEqy5GI",
        "outputId": "2e8c96e1-e181-4501-8458-4a77cce5794d"
      },
      "execution_count": 47,
      "outputs": [
        {
          "output_type": "stream",
          "name": "stdout",
          "text": [
            "Orders Grouped by Customer:\n",
            "Anu: [{'order_id': 1, 'customer': 'Anu', 'item': 'Laptop', 'quantity': 1, 'price_per_item': 55000.0, 'order_date': '2025-07-01'}]\n",
            "Jinu: [{'order_id': 2, 'customer': 'Jinu', 'item': 'Smartphone', 'quantity': 2, 'price_per_item': 15000.0, 'order_date': '2025-07-02'}]\n",
            "Diljith: [{'order_id': 3, 'customer': 'Diljith', 'item': 'Keyboard', 'quantity': 1, 'price_per_item': 700.0, 'order_date': '2025-07-03'}]\n",
            "Diya: [{'order_id': 4, 'customer': 'Diya', 'item': 'Monitor', 'quantity': 2, 'price_per_item': 12000.0, 'order_date': '2025-07-04'}]\n",
            "Dinu: [{'order_id': 5, 'customer': 'Dinu', 'item': 'Mouse', 'quantity': 3, 'price_per_item': 500.0, 'order_date': '2025-07-05'}]\n",
            "Briji: [{'order_id': 6, 'customer': 'Briji', 'item': 'Laptop', 'quantity': 1, 'price_per_item': 60000.0, 'order_date': '2025-07-06'}]\n",
            "Yadu: [{'order_id': 7, 'customer': 'Yadu', 'item': 'Smartwatch', 'quantity': 1, 'price_per_item': 1500.0, 'order_date': '2025-07-07'}]\n",
            "Naval: [{'order_id': 8, 'customer': 'Naval', 'item': 'Tablet', 'quantity': 1, 'price_per_item': 20000.0, 'order_date': '2025-07-08'}]\n",
            "Akshay: [{'order_id': 9, 'customer': 'Akshay', 'item': 'Earbuds', 'quantity': 3, 'price_per_item': 3000.0, 'order_date': '2025-07-09'}]\n",
            "Sreerag: [{'order_id': 10, 'customer': 'Sreerag', 'item': 'Charger', 'quantity': 4, 'price_per_item': 400.0, 'order_date': '2025-07-10'}]\n"
          ]
        }
      ]
    }
  ]
}